{
  "nbformat": 4,
  "nbformat_minor": 0,
  "metadata": {
    "colab": {
      "name": "TF2.0 CIFAR improved_withDA.ipynb",
      "provenance": [],
      "collapsed_sections": [],
      "mount_file_id": "1PdFBTgGpZJDhjuKHnmQvo-Y_CMi0aAwL",
      "authorship_tag": "ABX9TyNoeo7obxrrpe1Wkave1EI1",
      "include_colab_link": true
    },
    "kernelspec": {
      "name": "python3",
      "display_name": "Python 3"
    },
    "accelerator": "GPU"
  },
  "cells": [
    {
      "cell_type": "markdown",
      "metadata": {
        "id": "view-in-github",
        "colab_type": "text"
      },
      "source": [
        "<a href=\"https://colab.research.google.com/github/dioz95/CIFAR-10-with-TensorFlow2.0/blob/main/TF2_0_CIFAR_improved_withDA.ipynb\" target=\"_parent\"><img src=\"https://colab.research.google.com/assets/colab-badge.svg\" alt=\"Open In Colab\"/></a>"
      ]
    },
    {
      "cell_type": "code",
      "metadata": {
        "colab": {
          "base_uri": "https://localhost:8080/"
        },
        "id": "gpMjobHFmstv",
        "outputId": "10c5cc9b-bb8f-46dc-feac-ed2e19f8b507"
      },
      "source": [
        "# import libraries\n",
        "import tensorflow as tf\n",
        "print(f'Tensorflow version : {tf.__version__}')\n",
        "\n",
        "import matplotlib.pyplot as plt\n",
        "import numpy as np\n",
        "from tensorflow.keras.layers import Input, Flatten, Conv2D, BatchNormalization, Dense, Dropout, GlobalMaxPooling2D, MaxPooling2D\n",
        "from tensorflow.keras.models import Model"
      ],
      "execution_count": 6,
      "outputs": [
        {
          "output_type": "stream",
          "text": [
            "Tensorflow version : 2.4.0\n"
          ],
          "name": "stdout"
        }
      ]
    },
    {
      "cell_type": "code",
      "metadata": {
        "colab": {
          "base_uri": "https://localhost:8080/"
        },
        "id": "wefsBEDAnMFG",
        "outputId": "cf6588e1-82d9-40ec-ff7c-e4a3062e9fc4"
      },
      "source": [
        "# Load data\n",
        "cifar10 = tf.keras.datasets.cifar10\n",
        "(X_train, y_train), (X_test, y_test) = cifar10.load_data()\n",
        "X_train, X_test = X_train/255.0, X_test/255.0\n",
        "y_train, y_test = y_train.flatten(), y_test.flatten()\n",
        "print(f'X shape : {X_train.shape}')\n",
        "print(f'y shape : {y_train.shape}')"
      ],
      "execution_count": 7,
      "outputs": [
        {
          "output_type": "stream",
          "text": [
            "X shape : (50000, 32, 32, 3)\n",
            "y shape : (50000,)\n"
          ],
          "name": "stdout"
        }
      ]
    },
    {
      "cell_type": "code",
      "metadata": {
        "colab": {
          "base_uri": "https://localhost:8080/"
        },
        "id": "yoIpBNYznTTQ",
        "outputId": "b1b17cee-3ac0-4e55-bfdc-abf647d386db"
      },
      "source": [
        "# Check number of classes\n",
        "K = len(set(y_train))\n",
        "print(f'Number of classes : {K}')"
      ],
      "execution_count": 8,
      "outputs": [
        {
          "output_type": "stream",
          "text": [
            "Number of classes : 10\n"
          ],
          "name": "stdout"
        }
      ]
    },
    {
      "cell_type": "code",
      "metadata": {
        "id": "CRRY8dQ7nafs"
      },
      "source": [
        "# Create model using functional API\n",
        "i = Input(shape=X_train[0].shape)\n",
        "# x = Conv2D(32, (3, 3), strides=2, activation='relu')(i)\n",
        "# x = Conv2D(64, (3, 3), strides=2, activation='relu')(x)\n",
        "# x = Conv2D(128, (3, 3), strides=2, activation='relu')(x)\n",
        "\n",
        "# Convolutional Layers {Conv --> BatchNorm --> Conv --> BatchNorm --> MaxPooling (3x)}\n",
        "x = Conv2D(32, (3,3), padding='same', activation='relu')(i)\n",
        "x = BatchNormalization()(x)\n",
        "x = Conv2D(32, (3,3), padding='same', activation='relu')(x)\n",
        "x = BatchNormalization()(x)\n",
        "x = MaxPooling2D(pool_size=(2,2))(x)\n",
        "# x = Dropout(0.2)(x)\n",
        "x = Conv2D(64, (3,3), padding='same', activation='relu')(x)\n",
        "x = BatchNormalization()(x)\n",
        "x = Conv2D(64, (3,3), padding='same', activation='relu')(x)\n",
        "x = BatchNormalization()(x)\n",
        "x = MaxPooling2D(pool_size=(2,2))(x)\n",
        "# x = Dropout(0.2)(x)\n",
        "x = Conv2D(128, (3,3), padding='same', activation='relu')(x)\n",
        "x = BatchNormalization()(x)\n",
        "x = Conv2D(128, (3,3), padding='same', activation='relu')(x)\n",
        "x = BatchNormalization()(x)\n",
        "x = MaxPooling2D(pool_size=(2,2))(x)\n",
        "# x = Dropout(0.2)(x)\n",
        "# x = GlobalMaxPooling2D()(x)\n",
        "\n",
        "# Neural Networks Layer\n",
        "x = Flatten()(x)\n",
        "x = Dropout(0.2)(x)\n",
        "x = Dense(1024, activation='relu')(x)\n",
        "x = Dropout(0.2)(x)\n",
        "x = Dense(K, activation='softmax')(x)\n",
        "\n",
        "# Create model\n",
        "model = Model(i,x)\n",
        "\n",
        "# Compile and train the model\n",
        "model.compile(optimizer='adam',\n",
        "              loss='sparse_categorical_crossentropy',\n",
        "              metrics=['accuracy'])"
      ],
      "execution_count": 9,
      "outputs": []
    },
    {
      "cell_type": "code",
      "metadata": {
        "colab": {
          "base_uri": "https://localhost:8080/"
        },
        "id": "7uGs6byjneOP",
        "outputId": "3323dd6f-7469-46ee-abda-838facfac1be"
      },
      "source": [
        "# Data Augmentation\n",
        "# Note: if you run this AFTER calling the previous model.fit(), it will CONTINUE training where it left off\n",
        "batch_size = 32\n",
        "data_generator = tf.keras.preprocessing.image.ImageDataGenerator(width_shift_range=0.1, height_shift_range=0.1, horizontal_flip=True)\n",
        "train_generator = data_generator.flow(X_train, y_train, batch_size)\n",
        "steps_per_epoch = X_train.shape[0] // batch_size\n",
        "r = model.fit(train_generator, validation_data=(X_test, y_test), steps_per_epoch=steps_per_epoch, epochs=50)"
      ],
      "execution_count": 10,
      "outputs": [
        {
          "output_type": "stream",
          "text": [
            "Epoch 1/50\n",
            "1562/1562 [==============================] - 29s 18ms/step - loss: 1.8046 - accuracy: 0.4178 - val_loss: 1.1759 - val_accuracy: 0.5855\n",
            "Epoch 2/50\n",
            "1562/1562 [==============================] - 27s 17ms/step - loss: 1.0234 - accuracy: 0.6429 - val_loss: 0.8392 - val_accuracy: 0.7102\n",
            "Epoch 3/50\n",
            "1562/1562 [==============================] - 26s 17ms/step - loss: 0.8638 - accuracy: 0.7023 - val_loss: 0.8255 - val_accuracy: 0.7168\n",
            "Epoch 4/50\n",
            "1562/1562 [==============================] - 26s 17ms/step - loss: 0.7583 - accuracy: 0.7417 - val_loss: 0.8130 - val_accuracy: 0.7394\n",
            "Epoch 5/50\n",
            "1562/1562 [==============================] - 26s 16ms/step - loss: 0.6873 - accuracy: 0.7658 - val_loss: 0.7778 - val_accuracy: 0.7420\n",
            "Epoch 6/50\n",
            "1562/1562 [==============================] - 26s 17ms/step - loss: 0.6378 - accuracy: 0.7819 - val_loss: 0.6633 - val_accuracy: 0.7881\n",
            "Epoch 7/50\n",
            "1562/1562 [==============================] - 26s 17ms/step - loss: 0.5943 - accuracy: 0.7976 - val_loss: 0.7206 - val_accuracy: 0.7670\n",
            "Epoch 8/50\n",
            "1562/1562 [==============================] - 26s 16ms/step - loss: 0.5558 - accuracy: 0.8097 - val_loss: 0.5945 - val_accuracy: 0.8042\n",
            "Epoch 9/50\n",
            "1562/1562 [==============================] - 25s 16ms/step - loss: 0.5165 - accuracy: 0.8239 - val_loss: 0.5668 - val_accuracy: 0.8185\n",
            "Epoch 10/50\n",
            "1562/1562 [==============================] - 26s 16ms/step - loss: 0.4967 - accuracy: 0.8312 - val_loss: 0.5732 - val_accuracy: 0.8091\n",
            "Epoch 11/50\n",
            "1562/1562 [==============================] - 26s 17ms/step - loss: 0.4595 - accuracy: 0.8429 - val_loss: 0.5518 - val_accuracy: 0.8165\n",
            "Epoch 12/50\n",
            "1562/1562 [==============================] - 26s 16ms/step - loss: 0.4457 - accuracy: 0.8503 - val_loss: 0.5485 - val_accuracy: 0.8202\n",
            "Epoch 13/50\n",
            "1562/1562 [==============================] - 26s 17ms/step - loss: 0.4236 - accuracy: 0.8585 - val_loss: 0.4691 - val_accuracy: 0.8454\n",
            "Epoch 14/50\n",
            "1562/1562 [==============================] - 25s 16ms/step - loss: 0.4067 - accuracy: 0.8596 - val_loss: 0.4454 - val_accuracy: 0.8531\n",
            "Epoch 15/50\n",
            "1562/1562 [==============================] - 25s 16ms/step - loss: 0.3925 - accuracy: 0.8655 - val_loss: 0.5875 - val_accuracy: 0.8103\n",
            "Epoch 16/50\n",
            "1562/1562 [==============================] - 26s 16ms/step - loss: 0.3716 - accuracy: 0.8723 - val_loss: 0.5032 - val_accuracy: 0.8349\n",
            "Epoch 17/50\n",
            "1562/1562 [==============================] - 26s 16ms/step - loss: 0.3663 - accuracy: 0.8737 - val_loss: 0.4862 - val_accuracy: 0.8443\n",
            "Epoch 18/50\n",
            "1562/1562 [==============================] - 26s 16ms/step - loss: 0.3416 - accuracy: 0.8833 - val_loss: 0.4760 - val_accuracy: 0.8447\n",
            "Epoch 19/50\n",
            "1562/1562 [==============================] - 26s 16ms/step - loss: 0.3473 - accuracy: 0.8819 - val_loss: 0.4585 - val_accuracy: 0.8546\n",
            "Epoch 20/50\n",
            "1562/1562 [==============================] - 25s 16ms/step - loss: 0.3263 - accuracy: 0.8863 - val_loss: 0.4405 - val_accuracy: 0.8564\n",
            "Epoch 21/50\n",
            "1562/1562 [==============================] - 25s 16ms/step - loss: 0.3147 - accuracy: 0.8922 - val_loss: 0.4397 - val_accuracy: 0.8590\n",
            "Epoch 22/50\n",
            "1562/1562 [==============================] - 25s 16ms/step - loss: 0.3039 - accuracy: 0.8953 - val_loss: 0.5330 - val_accuracy: 0.8393\n",
            "Epoch 23/50\n",
            "1562/1562 [==============================] - 25s 16ms/step - loss: 0.2998 - accuracy: 0.8964 - val_loss: 0.4082 - val_accuracy: 0.8722\n",
            "Epoch 24/50\n",
            "1562/1562 [==============================] - 25s 16ms/step - loss: 0.2901 - accuracy: 0.8995 - val_loss: 0.4202 - val_accuracy: 0.8657\n",
            "Epoch 25/50\n",
            "1562/1562 [==============================] - 26s 17ms/step - loss: 0.2790 - accuracy: 0.9036 - val_loss: 0.4772 - val_accuracy: 0.8520\n",
            "Epoch 26/50\n",
            "1562/1562 [==============================] - 26s 16ms/step - loss: 0.2773 - accuracy: 0.9057 - val_loss: 0.4606 - val_accuracy: 0.8558\n",
            "Epoch 27/50\n",
            "1562/1562 [==============================] - 25s 16ms/step - loss: 0.2734 - accuracy: 0.9051 - val_loss: 0.4132 - val_accuracy: 0.8688\n",
            "Epoch 28/50\n",
            "1562/1562 [==============================] - 26s 16ms/step - loss: 0.2632 - accuracy: 0.9082 - val_loss: 0.4290 - val_accuracy: 0.8696\n",
            "Epoch 29/50\n",
            "1562/1562 [==============================] - 26s 16ms/step - loss: 0.2582 - accuracy: 0.9095 - val_loss: 0.4068 - val_accuracy: 0.8758\n",
            "Epoch 30/50\n",
            "1562/1562 [==============================] - 26s 17ms/step - loss: 0.2547 - accuracy: 0.9120 - val_loss: 0.4374 - val_accuracy: 0.8619\n",
            "Epoch 31/50\n",
            "1562/1562 [==============================] - 26s 16ms/step - loss: 0.2453 - accuracy: 0.9161 - val_loss: 0.4208 - val_accuracy: 0.8714\n",
            "Epoch 32/50\n",
            "1562/1562 [==============================] - 26s 16ms/step - loss: 0.2379 - accuracy: 0.9173 - val_loss: 0.4560 - val_accuracy: 0.8733\n",
            "Epoch 33/50\n",
            "1562/1562 [==============================] - 25s 16ms/step - loss: 0.2409 - accuracy: 0.9153 - val_loss: 0.4090 - val_accuracy: 0.8698\n",
            "Epoch 34/50\n",
            "1562/1562 [==============================] - 26s 17ms/step - loss: 0.2242 - accuracy: 0.9228 - val_loss: 0.3891 - val_accuracy: 0.8764\n",
            "Epoch 35/50\n",
            "1562/1562 [==============================] - 26s 17ms/step - loss: 0.2247 - accuracy: 0.9223 - val_loss: 0.3726 - val_accuracy: 0.8858\n",
            "Epoch 36/50\n",
            "1562/1562 [==============================] - 26s 16ms/step - loss: 0.2241 - accuracy: 0.9231 - val_loss: 0.4023 - val_accuracy: 0.8803\n",
            "Epoch 37/50\n",
            "1562/1562 [==============================] - 26s 17ms/step - loss: 0.2215 - accuracy: 0.9238 - val_loss: 0.4605 - val_accuracy: 0.8693\n",
            "Epoch 38/50\n",
            "1562/1562 [==============================] - 26s 17ms/step - loss: 0.2150 - accuracy: 0.9238 - val_loss: 0.4322 - val_accuracy: 0.8677\n",
            "Epoch 39/50\n",
            "1562/1562 [==============================] - 26s 17ms/step - loss: 0.2061 - accuracy: 0.9283 - val_loss: 0.4360 - val_accuracy: 0.8727\n",
            "Epoch 40/50\n",
            "1562/1562 [==============================] - 26s 17ms/step - loss: 0.2127 - accuracy: 0.9256 - val_loss: 0.4128 - val_accuracy: 0.8745\n",
            "Epoch 41/50\n",
            "1562/1562 [==============================] - 26s 17ms/step - loss: 0.2117 - accuracy: 0.9266 - val_loss: 0.3959 - val_accuracy: 0.8847\n",
            "Epoch 42/50\n",
            "1562/1562 [==============================] - 26s 16ms/step - loss: 0.1961 - accuracy: 0.9333 - val_loss: 0.4904 - val_accuracy: 0.8636\n",
            "Epoch 43/50\n",
            "1562/1562 [==============================] - 26s 16ms/step - loss: 0.2021 - accuracy: 0.9313 - val_loss: 0.4345 - val_accuracy: 0.8793\n",
            "Epoch 44/50\n",
            "1562/1562 [==============================] - 26s 16ms/step - loss: 0.2023 - accuracy: 0.9309 - val_loss: 0.4296 - val_accuracy: 0.8837\n",
            "Epoch 45/50\n",
            "1562/1562 [==============================] - 25s 16ms/step - loss: 0.1885 - accuracy: 0.9346 - val_loss: 0.4210 - val_accuracy: 0.8811\n",
            "Epoch 46/50\n",
            "1562/1562 [==============================] - 26s 16ms/step - loss: 0.1862 - accuracy: 0.9353 - val_loss: 0.4391 - val_accuracy: 0.8850\n",
            "Epoch 47/50\n",
            "1562/1562 [==============================] - 26s 17ms/step - loss: 0.1870 - accuracy: 0.9350 - val_loss: 0.4130 - val_accuracy: 0.8826\n",
            "Epoch 48/50\n",
            "1562/1562 [==============================] - 26s 16ms/step - loss: 0.1852 - accuracy: 0.9370 - val_loss: 0.3862 - val_accuracy: 0.8811\n",
            "Epoch 49/50\n",
            "1562/1562 [==============================] - 26s 17ms/step - loss: 0.1785 - accuracy: 0.9377 - val_loss: 0.4077 - val_accuracy: 0.8850\n",
            "Epoch 50/50\n",
            "1562/1562 [==============================] - 26s 17ms/step - loss: 0.1838 - accuracy: 0.9379 - val_loss: 0.3823 - val_accuracy: 0.8860\n"
          ],
          "name": "stdout"
        }
      ]
    },
    {
      "cell_type": "code",
      "metadata": {
        "id": "lpQFCN3jngqs",
        "colab": {
          "base_uri": "https://localhost:8080/",
          "height": 265
        },
        "outputId": "e3516751-b50b-48ba-8d4a-f22724dd6021"
      },
      "source": [
        "# Plot loss history\n",
        "plt.plot(r.history['loss'], label='loss')\n",
        "plt.plot(r.history['val_loss'], label='val_loss')\n",
        "plt.legend()\n",
        "plt.show()"
      ],
      "execution_count": 11,
      "outputs": [
        {
          "output_type": "display_data",
          "data": {
            "image/png": "[encoded data removed]",
            "text/plain": [
              "<Figure size 432x288 with 1 Axes>"
            ]
          },
          "metadata": {
            "tags": [],
            "needs_background": "light"
          }
        }
      ]
    },
    {
      "cell_type": "code",
      "metadata": {
        "id": "jOPdPxlYnnj1",
        "colab": {
          "base_uri": "https://localhost:8080/",
          "height": 265
        },
        "outputId": "7d37c13f-b7b6-44c8-b99c-de3a3d974d87"
      },
      "source": [
        "# Plot accuracy history\n",
        "plt.plot(r.history['accuracy'], label='accuracy')\n",
        "plt.plot(r.history['val_accuracy'], label='val_accuracy')\n",
        "plt.legend()\n",
        "plt.show()"
      ],
      "execution_count": 12,
      "outputs": [
        {
          "output_type": "display_data",
          "data": {
            "image/png": "[encoded data removed]",
            "text/plain": [
              "<Figure size 432x288 with 1 Axes>"
            ]
          },
          "metadata": {
            "tags": [],
            "needs_background": "light"
          }
        }
      ]
    },
    {
      "cell_type": "code",
      "metadata": {
        "id": "Q6k7cMLZnpry",
        "colab": {
          "base_uri": "https://localhost:8080/",
          "height": 498
        },
        "outputId": "29322116-4d17-46f0-9de3-93f337f8db59"
      },
      "source": [
        "# Plot confusion matrix\n",
        "from sklearn.metrics import confusion_matrix\n",
        "import itertools\n",
        "\n",
        "def plot_confusion_matrix(cm, classes,\n",
        "                          normalize=False,\n",
        "                          title='Confusion matrix',\n",
        "                          cmap=plt.cm.Blues):\n",
        "  \"\"\"\n",
        "  This function prints and plots the confusion matrix.\n",
        "  Normalization can be applied by setting `normalize=True`.\n",
        "  \"\"\"\n",
        "  if normalize:\n",
        "      cm = cm.astype('float') / cm.sum(axis=1)[:, np.newaxis]\n",
        "      print(\"Normalized confusion matrix\")\n",
        "  else:\n",
        "      print('Confusion matrix, without normalization')\n",
        "\n",
        "  print(cm)\n",
        "\n",
        "  plt.imshow(cm, interpolation='nearest', cmap=cmap)\n",
        "  plt.title(title)\n",
        "  plt.colorbar()\n",
        "  tick_marks = np.arange(len(classes))\n",
        "  plt.xticks(tick_marks, classes, rotation=45)\n",
        "  plt.yticks(tick_marks, classes)\n",
        "\n",
        "  fmt = '.2f' if normalize else 'd'\n",
        "  thresh = cm.max() / 2.\n",
        "  for i, j in itertools.product(range(cm.shape[0]), range(cm.shape[1])):\n",
        "      plt.text(j, i, format(cm[i, j], fmt),\n",
        "               horizontalalignment=\"center\",\n",
        "               color=\"white\" if cm[i, j] > thresh else \"black\")\n",
        "\n",
        "  plt.tight_layout()\n",
        "  plt.ylabel('True label')\n",
        "  plt.xlabel('Predicted label')\n",
        "  plt.show()\n",
        "\n",
        "\n",
        "p_test = model.predict(X_test).argmax(axis=1)\n",
        "cm = confusion_matrix(y_test, p_test)\n",
        "plot_confusion_matrix(cm, list(range(K)))"
      ],
      "execution_count": 13,
      "outputs": [
        {
          "output_type": "stream",
          "text": [
            "Confusion matrix, without normalization\n",
            "[[913   7  25   8   7   3   3   4  16  14]\n",
            " [  9 952   2   2   0   0   3   1   6  25]\n",
            " [ 21   0 862  23  29  17  24  12   5   7]\n",
            " [ 13   4  35 769  26  68  48  26   3   8]\n",
            " [  7   1  31  20 889  13  15  21   1   2]\n",
            " [  6   0  37 103  24 793  13  22   0   2]\n",
            " [  6   0  34  23   8   7 916   0   2   4]\n",
            " [  8   0   9  12  21  19   3 926   1   1]\n",
            " [ 45  10   8   3   1   0   2   3 915  13]\n",
            " [ 22  33   4   5   0   0   2   3   6 925]]\n"
          ],
          "name": "stdout"
        },
        {
          "output_type": "display_data",
          "data": {
            "image/png": "[encoded data removed]",
            "text/plain": [
              "<Figure size 432x288 with 2 Axes>"
            ]
          },
          "metadata": {
            "tags": [],
            "needs_background": "light"
          }
        }
      ]
    },
    {
      "cell_type": "code",
      "metadata": {
        "id": "BN7_ZaLznuHC"
      },
      "source": [
        "# label mapping\n",
        "labels = '''airplane\n",
        "automobile\n",
        "bird\n",
        "cat\n",
        "deer\n",
        "dog\n",
        "frog\n",
        "horse\n",
        "ship\n",
        "truck'''.split()"
      ],
      "execution_count": 14,
      "outputs": []
    },
    {
      "cell_type": "code",
      "metadata": {
        "id": "Z8iNwIOnqC-J",
        "colab": {
          "base_uri": "https://localhost:8080/",
          "height": 281
        },
        "outputId": "36c79627-15c0-47c6-f4f9-1c0c13b12944"
      },
      "source": [
        "# Show some misclassified examples\n",
        "misclassified_idx = np.where(p_test != y_test)[0]\n",
        "i = np.random.choice(misclassified_idx)\n",
        "plt.imshow(X_test[i], cmap='gray')\n",
        "plt.title(f'True label -- {labels[y_test[i]]} Predicted as {labels[p_test[i]]}')\n",
        "plt.show()"
      ],
      "execution_count": 15,
      "outputs": [
        {
          "output_type": "display_data",
          "data": {
            "image/png": "[encoded data removed]",
            "text/plain": [
              "<Figure size 432x288 with 1 Axes>"
            ]
          },
          "metadata": {
            "tags": [],
            "needs_background": "light"
          }
        }
      ]
    },
    {
      "cell_type": "code",
      "metadata": {
        "id": "LHf28ssQtJ_q",
        "colab": {
          "base_uri": "https://localhost:8080/"
        },
        "outputId": "f2e4d19e-6fb0-4a50-8b38-b97b563b208d"
      },
      "source": [
        "# Model summary\n",
        "model.summary()"
      ],
      "execution_count": 16,
      "outputs": [
        {
          "output_type": "stream",
          "text": [
            "Model: \"model_1\"\n",
            "_________________________________________________________________\n",
            "Layer (type)                 Output Shape              Param #   \n",
            "=================================================================\n",
            "input_2 (InputLayer)         [(None, 32, 32, 3)]       0         \n",
            "_________________________________________________________________\n",
            "conv2d_6 (Conv2D)            (None, 32, 32, 32)        896       \n",
            "_________________________________________________________________\n",
            "batch_normalization_6 (Batch (None, 32, 32, 32)        128       \n",
            "_________________________________________________________________\n",
            "conv2d_7 (Conv2D)            (None, 32, 32, 32)        9248      \n",
            "_________________________________________________________________\n",
            "batch_normalization_7 (Batch (None, 32, 32, 32)        128       \n",
            "_________________________________________________________________\n",
            "max_pooling2d_3 (MaxPooling2 (None, 16, 16, 32)        0         \n",
            "_________________________________________________________________\n",
            "conv2d_8 (Conv2D)            (None, 16, 16, 64)        18496     \n",
            "_________________________________________________________________\n",
            "batch_normalization_8 (Batch (None, 16, 16, 64)        256       \n",
            "_________________________________________________________________\n",
            "conv2d_9 (Conv2D)            (None, 16, 16, 64)        36928     \n",
            "_________________________________________________________________\n",
            "batch_normalization_9 (Batch (None, 16, 16, 64)        256       \n",
            "_________________________________________________________________\n",
            "max_pooling2d_4 (MaxPooling2 (None, 8, 8, 64)          0         \n",
            "_________________________________________________________________\n",
            "conv2d_10 (Conv2D)           (None, 8, 8, 128)         73856     \n",
            "_________________________________________________________________\n",
            "batch_normalization_10 (Batc (None, 8, 8, 128)         512       \n",
            "_________________________________________________________________\n",
            "conv2d_11 (Conv2D)           (None, 8, 8, 128)         147584    \n",
            "_________________________________________________________________\n",
            "batch_normalization_11 (Batc (None, 8, 8, 128)         512       \n",
            "_________________________________________________________________\n",
            "max_pooling2d_5 (MaxPooling2 (None, 4, 4, 128)         0         \n",
            "_________________________________________________________________\n",
            "flatten_1 (Flatten)          (None, 2048)              0         \n",
            "_________________________________________________________________\n",
            "dropout_2 (Dropout)          (None, 2048)              0         \n",
            "_________________________________________________________________\n",
            "dense_2 (Dense)              (None, 1024)              2098176   \n",
            "_________________________________________________________________\n",
            "dropout_3 (Dropout)          (None, 1024)              0         \n",
            "_________________________________________________________________\n",
            "dense_3 (Dense)              (None, 10)                10250     \n",
            "=================================================================\n",
            "Total params: 2,397,226\n",
            "Trainable params: 2,396,330\n",
            "Non-trainable params: 896\n",
            "_________________________________________________________________\n"
          ],
          "name": "stdout"
        }
      ]
    }
  ]
}